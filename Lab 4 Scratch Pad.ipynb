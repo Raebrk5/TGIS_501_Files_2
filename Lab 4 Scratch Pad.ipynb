{
 "cells": [
  {
   "cell_type": "markdown",
   "metadata": {},
   "source": [
    "# Scratch Pad for Lab 4\n",
    "\n",
    "## Please note! This is a python 3 notebook, but these examples were written in 2.7. I did this because some of them use ArcPy.\n",
    "### Just ignore the issue, these aren't meant to be run as-is."
   ]
  },
  {
   "cell_type": "code",
   "execution_count": null,
   "metadata": {},
   "outputs": [],
   "source": [
    "import arcpy\n",
    "\n",
    "#generic example function\n",
    "def function_name(arguments it takes):\n",
    "    'THE STUFF THE FUNCTION DOES'\n",
    "    return #you can have it return specific things here\n",
    "\n",
    "#Here is a function that prints your feature length\n",
    "\n",
    "def printlength(fc):\n",
    "    \n",
    "    cursor = arcpy.da.SearchCursor(fc, [\"SHAPE@LENGTH\"])\n",
    "    length = 0.0\n",
    "    for row in cursor:\n",
    "    length = length + row[0]\n",
    "    print length\n",
    "    del cursor\n",
    "    return"
   ]
  },
  {
   "cell_type": "code",
   "execution_count": null,
   "metadata": {},
   "outputs": [],
   "source": [
    "#Now here I am calling that function\n",
    "fc = 'SOME FEATURE CLASS'\n",
    "printlength(fc)\n",
    "#this would 'call' the function, so it runs.\n",
    "\n",
    "#Here's another way to do the same thing!\n",
    "def retlength(fc):\n",
    "    length = 0.0\n",
    "    with arcpy.da.SearchCursor(fc, [\"SHAPE@LENGTH\"]) as cursor:\n",
    "        for row in cursor:\n",
    "            length = length + row[0]\n",
    "    return length\n",
    "\n",
    "#to actually print length, what would we do?\n",
    "fc = 'some feature class'\n",
    "print retlength(fc) \n",
    "\n",
    "#This notebook is in Python 3, but we all know that ArcPy needs 2.7\n",
    "#So just use your imagination.\n"
   ]
  },
  {
   "cell_type": "code",
   "execution_count": null,
   "metadata": {},
   "outputs": [],
   "source": [
    "Functions can take multiple arguments.\n",
    "def nameage(name, age):\n",
    "    print \"Name: \" + name\n",
    "    print \"Age: \" + age\n",
    "\n",
    "#You can also set 'default' values, which functions will assign automatically unless you specify otherwise\n",
    "def nameage(name, age = '35'):\n",
    "    #etc.\n",
    "\n",
    "#Pay attention to where and how you define functions. Functions defined within a function, won't be able to be seen by other functions, etc. This is called \"scoping\"\n"
   ]
  },
  {
   "cell_type": "code",
   "execution_count": null,
   "metadata": {},
   "outputs": [],
   "source": [
    "def functionname(paramters it takes):\n",
    "    '''a string that tells us what the function does'''\n",
    "    what the function does (some code)\n",
    "    return [what you want to return]\n",
    "\n",
    "def squaring(n):\n",
    "    '''This function squares a number'''\n",
    "    x = n*n\n",
    "    return x"
   ]
  },
  {
   "cell_type": "code",
   "execution_count": null,
   "metadata": {},
   "outputs": [],
   "source": [
    "#Here's an example of a lambda definition. \n",
    "#You can also use lambdas 'in line' creating them as they are used.\n",
    "\n",
    "add = lambda arg1, arg2: arg1 + arg2\n",
    "print add(200, 10)"
   ]
  }
 ],
 "metadata": {
  "kernelspec": {
   "display_name": "Python 3",
   "language": "python",
   "name": "python3"
  },
  "language_info": {
   "codemirror_mode": {
    "name": "ipython",
    "version": 3
   },
   "file_extension": ".py",
   "mimetype": "text/x-python",
   "name": "python",
   "nbconvert_exporter": "python",
   "pygments_lexer": "ipython3",
   "version": "3.5.4"
  }
 },
 "nbformat": 4,
 "nbformat_minor": 2
}
