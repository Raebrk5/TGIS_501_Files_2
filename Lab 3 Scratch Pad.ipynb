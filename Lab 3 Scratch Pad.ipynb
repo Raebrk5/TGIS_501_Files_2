{
 "cells": [
  {
   "cell_type": "markdown",
   "metadata": {},
   "source": [
    "# Scratch Pad\n",
    "\n",
    "The following cells will not run as they are written. They are meant as exaples of syntax for various topics covered in the lecture.\n",
    "\n",
    "You will likely find some of these examples useful in your lab. "
   ]
  },
  {
   "cell_type": "code",
   "execution_count": null,
   "metadata": {},
   "outputs": [],
   "source": [
    "#A Search Cursor and sql query\n",
    "import arcpy\n",
    "\n",
    "arcpy.env.workspace = \"H:/Exercise07/\"\n",
    "fc = \"airports.shp\"\n",
    "cursor = arcpy.da.SearchCursor(fc, [\"NAME\", \"TOT_ENP\"], '\"TOT_ENP\" > 10000')\n",
    "\n",
    "for row in cursor:\n",
    "\tprint \"Airport name = \" + str(row[0])"
   ]
  },
  {
   "cell_type": "code",
   "execution_count": null,
   "metadata": {},
   "outputs": [],
   "source": [
    "#An Update Cursor (be sure you know how to change this back if you decide to run it on your actual data)\n",
    "import arcpy\n",
    "\n",
    "arcpy.env.workspace = \"H:/Exercise07/\"\n",
    "fc = \"airports.shp\"\n",
    "cursor = arcpy.da.UpdateCursor(fc, [\"NAME\"])\n",
    "\n",
    "for row in cursor:\n",
    "\tif str(row[0]) == \"A NEW AIRPORT\":\n",
    "\t\tcursor.deleteRow()\n",
    "\n",
    "\n",
    "cursor2 = arcpy.da.SearchCursor(fc, [\"NAME\"])\n",
    "\n",
    "for row in cursor2:\n",
    "\tprint \"Airport name = %s\" % row\n",
    "\n",
    "del row\n",
    "del cursor2\n",
    "del cursor"
   ]
  },
  {
   "cell_type": "code",
   "execution_count": null,
   "metadata": {},
   "outputs": [],
   "source": [
    "#This uses 'with ... as ...' to control locks.\n",
    "import arcpy\n",
    "\n",
    "arcpy.env.workspace = \"H:/Exercise07/\"\n",
    "fc = \"airports.shp\"\n",
    "with arcpy.da.SearchCursor(fc, [\"NAME\", \"TOT_ENP\"], '\"TOT_ENP\" > 10000') as cursor:\n",
    "\tfor row in cursor:\n",
    "\t\tprint \"Streetname = \" + str(row[0])\n",
    "\n",
    "\n",
    "\n"
   ]
  },
  {
   "cell_type": "code",
   "execution_count": null,
   "metadata": {},
   "outputs": [],
   "source": [
    "#Here we use a search cursor to find out the length of a feature class... what classes might it work with?\n",
    "\n",
    "import arcpy\n",
    "fc = \"WHATEVER YOUR FEATURE CLASS IS\"\n",
    "cursor = arcpy.da.SearchCursor(fc, [\"SHAPE@LENGTH\"])\n",
    "length = 0.0\n",
    "for row in cursor:\n",
    "\tlength = length + row[0]\n",
    "\n",
    "print length"
   ]
  },
  {
   "cell_type": "code",
   "execution_count": null,
   "metadata": {},
   "outputs": [],
   "source": [
    "#and here we take vertices...\n",
    "\n",
    "import arcpy\n",
    "fc = \"WHATEVER YOUR FEATURE CLASS IS, YO\"\n",
    "cursor = arcpy.da.SearchCursor(fc, [\"SHAPE@XY\"])\n",
    "\n",
    "for row in cursor:\n",
    "\tx, y = row[0]\n",
    "\tprint str(x)+ \" , \" + str(y)"
   ]
  },
  {
   "cell_type": "code",
   "execution_count": null,
   "metadata": {},
   "outputs": [],
   "source": [
    "#You may find this type of iteration useful for the new turtles problem (although not with a search cursor, what might you use?)\n",
    "\n",
    "arcpy.env.workspace = \"H:/Exercise08\"\n",
    "fc = \"rivers.shp\"\n",
    "\n",
    "cursor = arcpy.da.SearchCursor(fc, ([\"OID@\", \"SHAPE@\"]))\n",
    "\n",
    "for row in cursor:\n",
    "\tprint(\"Feature {0}: \".format(row[0]))\n",
    "\tfor point in row[1].getPart(0):\n",
    "\t\tprint(\"{0}, {1}\".format(point.X, point.Y))"
   ]
  },
  {
   "cell_type": "code",
   "execution_count": null,
   "metadata": {},
   "outputs": [],
   "source": [
    "#The further we go, the more iterations we need.\n",
    "\n",
    "import arcpy\n",
    "arcpy.evn.workspace = \"YOUR WORKSPACE\"\n",
    "fc = \"YOUR FEATURE CLASS!\"\n",
    "\n",
    "cursor = arcpy.da.SearchCursor(fc, [\"OID@\", \"SHAPE@\"])\n",
    "\n",
    "for row in cursor:\n",
    "\tprint \"Feature{0}: \".format(row[0])\n",
    "\tpart = 0\n",
    "\tfor part in row[1]:\n",
    "\t\tprint(\"Part {0}\".format(part))\n",
    "\t\tfor point in part:\n",
    "\t\t\tprint(\"{0}, {1}\".format(point.X, poin.Y))\n",
    "\t\tpart = part + 1\n",
    "\n",
    "for point in part:\n",
    "\tif point: #so if the point exists\n",
    "\t\tprint 'your stuff' #just as before\n",
    "\telse:\n",
    "\t\tprint \"Interior Ring\" #this sets off that what follows is an interior ring\n",
    "\t#then iterate through again"
   ]
  },
  {
   "cell_type": "code",
   "execution_count": null,
   "metadata": {},
   "outputs": [],
   "source": [
    "#Here's the creation of a very simple shapefile... what sort of inputs might you use?\n",
    "\n",
    "import arpy, fileinput, string\n",
    "arcpy.env.overwriteOutput = True #just in case, yo!\n",
    "fc = \"WHERE YOU WANT YOUR NEW FILE, YO\"\n",
    "arcpy.management.CreateFeatureClass(\"PATH\", fc, \"Polygon\")\n",
    "\n",
    "infile = \"IMAGINE YOU HAVE SOME POINTS HERE\"\n",
    "\n",
    "cursor = arcpy.da.InsertCursor(fc, [\"SHAPE@\"])\n",
    "array = arcpy.Array()\n",
    "point = arcpy.Point()\n",
    "\n",
    "for line in fileinput.input(infile):\n",
    "\tpoint.ID, point.X, point.Y = line.split(\" \") #this assumes a certain format, what is it?\n",
    "\tarray.add(point)\n",
    "polygon = arcpy.Polygon(array)\n",
    "cursor.insertRow([polygon])\n",
    "del cursor"
   ]
  }
 ],
 "metadata": {
  "kernelspec": {
   "display_name": "Python [conda env:lab2]",
   "language": "python",
   "name": "conda-env-lab2-py"
  },
  "language_info": {
   "codemirror_mode": {
    "name": "ipython",
    "version": 2
   },
   "file_extension": ".py",
   "mimetype": "text/x-python",
   "name": "python",
   "nbconvert_exporter": "python",
   "pygments_lexer": "ipython2",
   "version": "2.7.14"
  }
 },
 "nbformat": 4,
 "nbformat_minor": 2
}
