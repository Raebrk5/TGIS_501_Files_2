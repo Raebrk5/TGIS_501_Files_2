{
 "cells": [
  {
   "cell_type": "markdown",
   "metadata": {},
   "source": [
    "# Lab 3\n",
    "\n",
    "## Lab Purpose\n",
    "\n",
    "This lab continues our work on the syntax and functions of the python language. It also integrates this work with the means of automating ArcGIS desktop (and some server) through the ArcPy site package. Later on in the course we'll discuss ArcPro and the ArcGIS API for python, but - _in this lab_ - we focus on the more established means of automation.\n",
    "\n",
    "We are going to explore how to search, query, and (somewhat) visualize spatial data in ArcPy.\n",
    "\n",
    "Along the way, I'll ask you some (seemingly) goofy questions that will help build your familiarity with loops, flow control, and iteration."
   ]
  },
  {
   "cell_type": "markdown",
   "metadata": {},
   "source": [
    "### Question 1 - All Lovecraft all the time\n",
    "\n",
    "First, let’s return to our old friend H.P. Lovecraft and his The Shunned House.\n",
    "\n",
    "Last time, we counted the words he loved to use and how he used them. But, Lovecraft is also known for his lugubrious sentences, the long-winding means by which he tells us his terrible tales. I’m interested in how many characters his average sentence is. I’d also like a printed copy of the longest sentence and the shortest sentence in The Shunned House.\n",
    "\n",
    "Think about how you opened the file, read it, and parsed it into a list last time… _What means do you have to count the character length of objects? What format do those objects have to be? Etc._\n",
    "\n",
    "This question will help you think about ways to parse through and iterate over different types of data sets (in this case a text file)."
   ]
  },
  {
   "cell_type": "code",
   "execution_count": null,
   "metadata": {},
   "outputs": [],
   "source": []
  },
  {
   "cell_type": "markdown",
   "metadata": {},
   "source": [
    "### Question 2 - An Odd Request (part 1)\n",
    "\n",
    "Having handled text, now let's take a look at how we can parse through, iterate over, and query spatial information using ArcPy.\n",
    "\n",
    "In order to complete this question, you will need to have worked through Exercise 7 of your textbook. If you do not have the book, the required exercise and data can be fond on our class' Canvas site (not github, there are copyright reasons for this). It will also help if you have read Chapter 8 of the text, especially for the second half of this question.\n",
    "\n",
    "Your boss has decided that all airports that are within 10,000 meters of a road are \"at risk\" and all other airpots are \"safe\".\n",
    "\n",
    "Using ArcPy, add a new field to the roads’ attribute table, call it “Security.” For all airports within 10,000 meters of a road, set the value of “Security” to “at risk,” for all other airports, set it to “safe.”\n",
    "Think about how you would do this in Arc. Remember every tool in Arc has an equivalent in ArcPy. There are several ways to approach this problem, but do not use the Model Builder (in the real world, you might, but for the purposes of this exercise, you need to type the code yourself).\n",
    "\n",
    "Think about what cursors do and how to use them, as well as how to add a field and select something by location. _Remember to use the arcpy.Usage() to look up syntax._ \n"
   ]
  },
  {
   "cell_type": "code",
   "execution_count": null,
   "metadata": {},
   "outputs": [],
   "source": []
  },
  {
   "cell_type": "markdown",
   "metadata": {},
   "source": [
    "### Question 2 - An Odd Request (part 2)\n",
    "\n",
    "Now we know what airports are safe and which ones are at risk. Very useful.\n",
    "\n",
    "But now our weird boss is being even more weird. He (because it is me) wants you to find all of the airports that are within 50 kilometers of the “at risk” airports. These airports need to be categorized as “medium risk.”\n",
    "\n",
    "Further, all of the “at risk” and “medium risk” airports must be put into a new shapefile called “Alaska at risk.shp.” You and your boss both know shapefile names can’t have spaces in them, but he insists that you accept the name with spaces and correct for it in python (Here I mean that in your script you have something that accepts a string with spaces and prorammatically removes them - this may seem banal in the context of this exercise, but the ability to correct for errors will pay huge dividends down the road... _pun intended_).\n",
    "\n",
    "The script should produce a .shp file with the Alaska_At_Risk.shp (this shapefile can be stored locally, you do not need to do any uploading, etc.).\n",
    "\n",
    "Just like when doing things manually in ArcGIS, there are multiple orders and approaches to this task. You can create a new shapefile first, then update it with your selection. You can run the selection first, etc.).\n",
    "The goal here is to grant you the ability to spatially query information with python just as you have previously done in Arc itself. With this ability, you can automate tasks.\n"
   ]
  },
  {
   "cell_type": "code",
   "execution_count": null,
   "metadata": {},
   "outputs": [],
   "source": []
  },
  {
   "attachments": {},
   "cell_type": "markdown",
   "metadata": {},
   "source": [
    "### Question 3 - Remember the Turtles\n",
    "\n",
    "I’m sure you remember our friends the turtles. Well, in this exercise, you are going to use turtles to generate a series of points, and import those points as a polygon into ArcGIS. I know it might seem silly to use the turtle drawing module to create a polygon for Arc, but the point is to force you to think about how variously formatted data might be parsed into something ArcGIS can read and projected.\n",
    "\n",
    "**It is strongly recommended that you work through the exercises for Chapter 8 here, particularly challenge problem 1.**\n",
    "\n",
    "Here's what you need to do (either in the next cell or as a standalone script):\n",
    "1. Asks the user how many sides they would like their polygon to have. (Hint: use your script from lab 2).\n",
    "2. Create said polygon using turtles, make sure you report the points (if you don’t know how, take a look at a list of turtle commands here: http://editrocket.com/docs/builder_python_turtle.html)\n",
    "3. Now you need to create a new feature class. Make sure you set your spatial reference. Use WGS1984. If you need a review of how to set spatial referents, check out pages 107-110 of your textbook.\n",
    "\n"
   ]
  },
  {
   "cell_type": "code",
   "execution_count": null,
   "metadata": {},
   "outputs": [],
   "source": []
  },
  {
   "attachments": {},
   "cell_type": "markdown",
   "metadata": {},
   "source": [
    "#### Challenge Problem 1 (and only) +1%\n",
    "\n",
    "Can you make a script that asks the user how many polygons they would like, draws them sequentially (you can separate them by an arbitrary number of pixels, or create multiple turtles around the screen and draw them at once), and saves them as a multipart polygon? (There will be some hints on how to do this in your next class).\n"
   ]
  },
  {
   "cell_type": "code",
   "execution_count": null,
   "metadata": {},
   "outputs": [],
   "source": []
  },
  {
   "cell_type": "markdown",
   "metadata": {},
   "source": [
    "# HOUSEKEEPING!\n",
    "\n",
    "The next lab will require you to be able to write scripts in both python 2.7 and python 3+. \n",
    "In anaconda, you can control the installed python version of a given environment when you create it. [See the cheat sheet](https://conda.io/docs/_downloads/conda-cheatsheet.pdf) for a reminder as to how.\n",
    "\n",
    "**But, in addition**, due to some security features, you will also need to install a library called nb_conda_kernels. Once you are within the actived virtual environment, you can do so with the following command:\n",
    "```\n",
    "conda install --channel=conda-forge nb_conda_kernels \n",
    "```\n",
    "\n",
    "This will allow you to select the version of python (kernel) when you load/create your notebook.\n",
    "\n",
    "If you are writing your scripts in a text editor, you need not worry about this. Within the text editor, your code is imply text. You will simply have to make sure you run your scripts through interperters of the proper version.\n",
    "\n",
    "## I am going to begin class assuming you are able to write/launch scripts in both python 2 and 3."
   ]
  },
  {
   "cell_type": "code",
   "execution_count": 2,
   "metadata": {},
   "outputs": [
    {
     "name": "stdout",
     "output_type": "stream",
     "text": [
      "hello\n"
     ]
    }
   ],
   "source": [
    "#Here's an easy way to test your python version\n",
    "\n",
    "print 'hello'\n",
    "\n",
    "#If that command works, you are in python 2+; if it does not, you are in python 3+ (there are obviously other ways to do this)"
   ]
  }
 ],
 "metadata": {
  "kernelspec": {
   "display_name": "Python [conda env:lab2]",
   "language": "python",
   "name": "conda-env-lab2-py"
  },
  "language_info": {
   "codemirror_mode": {
    "name": "ipython",
    "version": 2
   },
   "file_extension": ".py",
   "mimetype": "text/x-python",
   "name": "python",
   "nbconvert_exporter": "python",
   "pygments_lexer": "ipython2",
   "version": "2.7.14"
  }
 },
 "nbformat": 4,
 "nbformat_minor": 2
}
