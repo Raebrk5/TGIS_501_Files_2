{
 "cells": [
  {
   "cell_type": "markdown",
   "metadata": {},
   "source": [
    "# Lab 2\n",
    "\n",
    "## Lab purpose\n",
    "This lab takes a step back from working with and within ArcGIS to explore Python as a language in and of itself. In this lab, you’ll be asked to solve a variety of problems using Python. Some of these problems will have immediate applied uses, while others will simply be asking you to think computationally – about what you can and cannot solve using Python and how it might be used in a variety of generalized tasks. You will also gain familiarity with the specific syntax of the Python language.\n",
    "\n",
    "There are a wide variety of articles, guides, tutorials, and reference materials available on the Python language. You’re encouraged to read through many of these and refer to them when you run into difficulty. Make sure you understand why any solution works or you will run into significant difficulties later.\n",
    "\n",
    "You will turn in a series of python scripts that you create to solve each problem. You will host them [in the repository here](https://github.com/UWTMGIS/TGIS501_W18/tree/master/lab2). If you are using a notebook, you will enter all of your code here and upload a single .ipynb file with the format LastName.ipynb. If you are uploading individual scripts, they will be LastName_ProblemNumber.py.\n",
    "\n",
    "**It is strongly recommended you work through the entirety of Exercise 4 from the Scripting… book before attempting these problems. This lab may be completed using either python 2 or 3.**"
   ]
  },
  {
   "cell_type": "markdown",
   "metadata": {},
   "source": [
    "## Problem 1: The Trouble With Turtles\n",
    "\n",
    "Depending on your age, you may remember playing with a Turtle drawing program in elementary school. The history behind the Turtle is a bit longer (dating back to the 1960s) and “Turtle Graphics” generally refers to a means of drawing vector graphics on a Cartesian plane. You draw by moving an imaginary turtle around the screen. Each turtle (and there can be more than one) has a location, a pen, and an orientation. With simple commands you can draw truly complex shapes.\n",
    "\n",
    "Follow [this link](http://openbookproject.net/thinkcs/python/english3e/hello_little_turtles.html) and work up through section 3.6 (there are challenge problems below you can do for fun, but perhaps come back to them later).\n"
   ]
  },
  {
   "cell_type": "markdown",
   "metadata": {},
   "source": [
    "### Question 1\n",
    "\n",
    "**Write a script that _asks the user to input a number and then draws a shape with that number of sides_**\n",
    "\n",
    "If you need help on getting keyboard input in python, take a look [here](http://www.python-course.eu/input.php)\n",
    "\n",
    "If you are using a notebook for this assignment, you can enter your code in the cell below, otherwise write your own script."
   ]
  },
  {
   "cell_type": "code",
   "execution_count": 1,
   "metadata": {},
   "outputs": [],
   "source": [
    "import turtle\n",
    "# use this command instead of wn.mainloop() -> wn.exitonclick()\n",
    "#do not name your script (if doing so independently) turtle.py\n"
   ]
  },
  {
   "cell_type": "markdown",
   "metadata": {},
   "source": [
    "## Problem 2: Is GIS the best, and the looming horrors of New England\n",
    "\n",
    "Problem 2 will have you working with text files to manipulate and analyze them. Here, we'll be working with plain text files and doing some very rudimentary forms of analysis. We'll return to these ideas later in the course using a more sophisticated approach (natural language processing), but for now we're focusing on the basics of opening files, manipulating data, and using flow control to iterate across datasets. \n",
    "\n"
   ]
  },
  {
   "cell_type": "markdown",
   "metadata": {},
   "source": [
    "### Question 3\n",
    "\n",
    "You have written a long, beautiful ode to GIS and called it GIS_is_the_best.txt. Wow, you're very proud of yourself.\n",
    "Find this file, which you have written [in this repository](https://github.com/UWTMGIS/TGIS501_Files).\n",
    "\n",
    "You can either read it directly from the web (which we'll cover in a later lab, but you can likely figure out now if you wish) or just clone/download it somewhere local. \n",
    "\n",
    "A couple of hints before we go one:\n",
    "1. Check out the methods .upper() and .lower()\n",
    "2. The assigned readings for this week covered opening files. Exercise 4 (recommended above) discusses counting words. You can also check out a quick tutorial on text files [here](http://opentechschool.github.io/python-data-intro/core/text-files.html).\n",
    "\n",
    "\n",
    "In the next cell (or in your own script), write a script that prints the total number of words in the document.\n"
   ]
  },
  {
   "cell_type": "code",
   "execution_count": null,
   "metadata": {},
   "outputs": [],
   "source": []
  },
  {
   "cell_type": "markdown",
   "metadata": {},
   "source": [
    "**That was pretty fun!**\n",
    "\n",
    "But, don't worry, we have something even more exciting in store. It turns out that you've recently become enamored with the unspeakable horrors and non-Euclidean geometries found in H.P. Lovecraft's prose. You've decided you want to investigate his work _The Shunned House_ to find two things: How many unique words he uses and how many times he uses the word \"uncle\".\n",
    "\n",
    "You can find the text file for the shunned house in the same directory as your ode to GIS, [here](https://github.com/UWTMGIS/TGIS501_Files).\n",
    "\n",
    "As a hint, you make want to look into the [collections module](https://docs.python.org/2/library/collections.html#collections)\n"
   ]
  },
  {
   "cell_type": "markdown",
   "metadata": {},
   "source": [
    "### Question 4\n",
    "\n",
    "How many unique words does Lovecraft use in _The Shunned House_?\n",
    "\n",
    "Like before, case does not matter; so, \"whisker\" and \"Whisker\" would be the same. Make sure you strip out punctuation, by the by, otherwise you might end up with \"whisker.\" \"whisker?\" and \"whisker\" as separate words!"
   ]
  },
  {
   "cell_type": "code",
   "execution_count": null,
   "metadata": {},
   "outputs": [],
   "source": []
  },
  {
   "cell_type": "markdown",
   "metadata": {},
   "source": [
    "### Question 5\n",
    "\n",
    "How many times does Lovecraft use the word \"uncle\" - again, case does not matter and make sure you strip punctuation."
   ]
  },
  {
   "cell_type": "code",
   "execution_count": null,
   "metadata": {},
   "outputs": [],
   "source": []
  },
  {
   "cell_type": "markdown",
   "metadata": {},
   "source": [
    "### Bonus Questions (+1 pt each)\n",
    "\n",
    "These questions are _meant_ to be hard. I will only give you limited help with these. You will find some questions harder than others, you will find some questions more interesting than others. All of the questions are possible.\n",
    "\n",
    "#### Bonus Question 1\n",
    "Excluding prepositions and articles (\"from\", \"the\", \"an\", \"with\", etc.) - what are the five most frequently used words in _The Shunned House_? "
   ]
  },
  {
   "cell_type": "code",
   "execution_count": null,
   "metadata": {},
   "outputs": [],
   "source": []
  },
  {
   "cell_type": "markdown",
   "metadata": {},
   "source": [
    "#### Bonus Question 2\n",
    "Write a script that asks for number, checks to make sure that it is in fact a number, and then finds said number’s square root (within an error of .0001). __Do not use any build in commands that find square roots (such as sqrt() or x**(1/2). You must build the script using only multiplication, division, addition, and subtraction (you may also use absolute value).__\n",
    "\n",
    "Pay attention to how many iterations it takes to solve, try to minimize it (By the way, there is a 'best' solution here, try not to look it up)."
   ]
  },
  {
   "cell_type": "code",
   "execution_count": null,
   "metadata": {},
   "outputs": [],
   "source": []
  },
  {
   "cell_type": "markdown",
   "metadata": {},
   "source": [
    "Once you lab is done - either as a series of separate scripts with names of the form LastName_QuestionNumber.py or within this document itself (a .ipynb file), upload them to the [lab2](https://github.com/UWTMGIS/TGIS501_W18/tree/master/lab2) area of the repository."
   ]
  },
  {
   "cell_type": "code",
   "execution_count": null,
   "metadata": {},
   "outputs": [],
   "source": []
  }
 ],
 "metadata": {
  "kernelspec": {
   "display_name": "Python [conda env:lab2]",
   "language": "python",
   "name": "conda-env-lab2-py"
  },
  "language_info": {
   "codemirror_mode": {
    "name": "ipython",
    "version": 2
   },
   "file_extension": ".py",
   "mimetype": "text/x-python",
   "name": "python",
   "nbconvert_exporter": "python",
   "pygments_lexer": "ipython2",
   "version": "2.7.14"
  }
 },
 "nbformat": 4,
 "nbformat_minor": 2
}
